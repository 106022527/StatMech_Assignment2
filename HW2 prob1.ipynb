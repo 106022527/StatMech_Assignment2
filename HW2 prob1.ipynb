{
 "cells": [
  {
   "cell_type": "markdown",
   "metadata": {},
   "source": [
    "## 2."
   ]
  },
  {
   "cell_type": "code",
   "execution_count": 61,
   "metadata": {},
   "outputs": [
    {
     "name": "stdout",
     "output_type": "stream",
     "text": [
      "====================\n",
      "2 die with 10 sides\n",
      "Number of trials =  10000\n",
      "|mean= 11.0177 |var= 16.527186710000038 |std= 4.065364277650902 |\n",
      "|mean_theory= 11.0 |var_theory= 16.5 |std_theory= 4.06201920231798 |\n",
      "|mean_err= 0.1609090909090873 % |  var_err= 0.16476793939416853 % |  std_err= 0.08235006203350176 % |\n",
      "Elapsed time = 0.020265666316845454\n",
      "====================\n",
      "10 die with 20 sides\n",
      "Number of trials =  10000\n",
      "|mean= 104.97849999999997 |var= 328.305237750008 |std= 18.11919528428368 |\n",
      "|mean_theory= 105.0 |var_theory= 332.5 |std_theory= 18.23458252881047 |\n",
      "|mean_err= -0.020476190476220575 % |  var_err= -1.261582631576536 % |  std_err= -0.6327934535626427 % |\n",
      "Elapsed time = 0.06469800356717315\n"
     ]
    }
   ],
   "source": [
    "\n",
    "\n",
    "import random\n",
    "import time\n",
    "import numpy as np\n",
    "\n",
    "def OneDie(trials, dices, sides):\n",
    "    c1=time.clock()\n",
    "    print(\"====================\")\n",
    "    print(dices, \"die with\"\"\",sides,\"sides\")\n",
    "    print(\"Number of trials = \", trials)\n",
    "\n",
    "    histogram = np.zeros (sides*dices-1)\n",
    " \n",
    "    \n",
    "    \n",
    "    \n",
    "    j = 0\n",
    "    r = 0\n",
    "    while j < trials :\n",
    "        \n",
    "        valume = 0\n",
    "        for i in range(dices):\n",
    "            r = int(np.random.random()*sides) \n",
    "            valume = valume+r\n",
    "            \n",
    "      \n",
    "        histogram[valume] = histogram[valume] + 1\n",
    "        j = j + 1\n",
    "        \n",
    "\n",
    "    mean = 0\n",
    "    var  = 0\n",
    "    i = 0\n",
    "    for i in range(sides*dices-1):\n",
    "        \n",
    "        mean = mean + (i+dices)*histogram[i]/trials \n",
    "        var = var  + ((i+dices)**2)*histogram[i]/trials\n",
    "    var=var-mean**2\n",
    "    std=var**0.5\n",
    "    print(\"|mean=\",mean,\"|var=\",var,\"|std=\",std,\"|\")\n",
    "    \n",
    "    \n",
    "    mean_theory = dices * (sides + 1)/2\n",
    "    var_theory = dices * (sides - 1) * (sides + 1 )/12\n",
    "    std_theory = var_theory**0.5\n",
    "    \n",
    "    print(\"|mean_theory=\",mean_theory,\"|var_theory=\", var_theory,\"|std_theory=\",std_theory,\"|\")\n",
    "    \n",
    "    \n",
    "    mean_err=(mean-mean_theory)/mean_theory*100\n",
    "    var_err=(var-var_theory)/var_theory*100\n",
    "    std_err=(std-std_theory)/std_theory*100\n",
    "    print(\"|mean_err=\",mean_err,\"% |  var_err=\",var_err, \"% |  std_err=\", std_err,\"% |\")\n",
    "    \n",
    "    \n",
    "    c2=time.clock()\n",
    "    print(\"Elapsed time =\", c2-c1)\n",
    "\n",
    "def run():\n",
    "    OneDie(10000,2,10)\n",
    "    OneDie(10000,10,20)\n",
    "  \n",
    "  \n",
    "    #寬度用標準差\n",
    "run()"
   ]
  },
  {
   "cell_type": "markdown",
   "metadata": {},
   "source": [
    "## 3."
   ]
  },
  {
   "cell_type": "code",
   "execution_count": 62,
   "metadata": {},
   "outputs": [
    {
     "name": "stdout",
     "output_type": "stream",
     "text": [
      "====================\n",
      "10 die with 2 sides\n",
      "Number of trials =  10000\n",
      "|mean= 15.0223 |var= 2.478202710000005 |std= 1.574230831231559 |\n",
      "|mean_theory= 15.0 |var_theory= 2.5 |std_theory= 1.5811388300841898 |\n",
      "|mean_err= 0.14866666666666362 % |  var_err= -0.8718915999997989 % |  std_err= -0.43690020896286513 % |\n",
      "Elapsed time = 0.06537682341877371\n",
      "====================\n",
      "100 die with 2 sides\n",
      "Number of trials =  10000\n",
      "|mean= 149.93599999999998 |var= 25.220504000008077 |std= 5.02200199123896 |\n",
      "|mean_theory= 150.0 |var_theory= 25.0 |std_theory= 5.0 |\n",
      "|mean_err= -0.04266666666668091 % |  var_err= 0.8820160000323086 % |  std_err= 0.44003982477919484 % |\n",
      "Elapsed time = 0.5468747772683855\n",
      "====================\n",
      "1000 die with 2 sides\n",
      "Number of trials =  10000\n",
      "|mean= 1500.0139000000004 |var= 256.05510678794235 |std= 16.00172199445867 |\n",
      "|mean_theory= 1500.0 |var_theory= 250.0 |std_theory= 15.811388300841896 |\n",
      "|mean_err= 0.0009266666666917445 % |  var_err= 2.4220427151769397 % |  std_err= 1.2037759746033125 % |\n",
      "Elapsed time = 5.56818675557588\n"
     ]
    }
   ],
   "source": [
    "    OneDie(10000,10,2)\n",
    "    OneDie(10000,100,2)\n",
    "    OneDie(10000,1000,2)"
   ]
  },
  {
   "cell_type": "markdown",
   "metadata": {},
   "source": [
    "#### the width of the distribution is increase with increasing numbers of dice and my result is agree with theory."
   ]
  },
  {
   "cell_type": "code",
   "execution_count": null,
   "metadata": {},
   "outputs": [],
   "source": []
  }
 ],
 "metadata": {
  "kernelspec": {
   "display_name": "Python 3",
   "language": "python",
   "name": "python3"
  },
  "language_info": {
   "codemirror_mode": {
    "name": "ipython",
    "version": 3
   },
   "file_extension": ".py",
   "mimetype": "text/x-python",
   "name": "python",
   "nbconvert_exporter": "python",
   "pygments_lexer": "ipython3",
   "version": "3.6.4"
  }
 },
 "nbformat": 4,
 "nbformat_minor": 2
}

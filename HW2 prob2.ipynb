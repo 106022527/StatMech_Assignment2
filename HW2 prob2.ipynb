{
 "cells": [
  {
   "cell_type": "code",
   "execution_count": 1,
   "metadata": {},
   "outputs": [],
   "source": [
    "import random\n",
    "import time\n",
    "import numpy as np\n",
    "\n",
    "def OneDieS_np(trials, sides):\n",
    "    c1=time.clock()\n",
    "    print(\"====================\")\n",
    "    print(\"Number of sides = \", sides)\n",
    "    print(\"Number of trials = \", trials)\n",
    "\n",
    "    histogram = np.zeros(sides)\n",
    "  \n",
    "    r = 0\n",
    "    for t in range(trials):\n",
    "        r = int(np.random.random()*sides)\n",
    "        histogram[r] = histogram[r] + 1\n",
    "   \n",
    "    mean = 0\n",
    "    var  = 0\n",
    "    for i in range(sides):\n",
    "        mean = mean + (i+1)*histogram[i]/trials \n",
    "        var = var  + ((i+1)**2)*histogram[i]/trials\n",
    "    var=var-mean**2\n",
    "    std=var**0.5\n",
    "\n",
    "    \n",
    "    \n",
    "    mean_theory=0\n",
    "    var_theory=0\n",
    "    for i in range(sides):\n",
    "        mean_theory = mean_theory + (i+1)*1/sides\n",
    "        var_theory = var_theory  + ((i+1)**2)*1/sides\n",
    "    var_theory=var_theory-mean_theory**2\n",
    "    std_theory=var_theory**0.5\n",
    "\n",
    "    \n",
    "    mean_err=(mean-mean_theory)/mean_theory*100\n",
    "    var_err=(var-var_theory)/var_theory*100\n",
    "    std_err=(std-std_theory)/std_theory*100\n",
    "   \n",
    "    \n",
    "    \n",
    "    c2=time.clock()\n",
    "    print(\"Elapsed time =\", c2-c1)\n",
    "\n",
    "    return(mean,var,mean_theory,var_theory)\n"
   ]
  },
  {
   "cell_type": "markdown",
   "metadata": {},
   "source": [
    "## 1."
   ]
  },
  {
   "cell_type": "code",
   "execution_count": 2,
   "metadata": {},
   "outputs": [
    {
     "name": "stdout",
     "output_type": "stream",
     "text": [
      "====================\n",
      "Number of sides =  6\n",
      "Number of trials =  10000\n",
      "Elapsed time = 0.011294467546937215\n",
      "====================\n",
      "Number of sides =  4\n",
      "Number of trials =  10000\n",
      "Elapsed time = 0.009209541224977606\n",
      "|mean= 5.9823 |var= 4.15857491 |std= 2.039258421583689 |\n",
      "|mean_theory= 6.0 |var_theory= 4.166666666666668 |std_theory= 2.041241452319315 |\n",
      "|mean_err= -0.2949999999999934 % |  var_err= -0.1942021600000387 % |  std_err= -0.09714826893079884 % |\n"
     ]
    }
   ],
   "source": [
    "(mean1,var1,mean_theory1,var_theory1)=OneDieS_np(10000,6)\n",
    "(mean2,var2,mean_theory2,var_theory2)=OneDieS_np(10000,4)\n",
    "mean=mean1+mean2\n",
    "var=var1+var2\n",
    "std=var**0.5\n",
    "print(\"|mean=\",mean,\"|var=\",var,\"|std=\",std,\"|\")\n",
    "mean_theory=mean_theory1+mean_theory2\n",
    "var_theory=var_theory1+var_theory2\n",
    "std_theory=var_theory**0.5\n",
    "print(\"|mean_theory=\",mean_theory,\"|var_theory=\",var_theory,\"|std_theory=\",std_theory,\"|\")\n",
    "mean_err=(mean-mean_theory)/mean_theory*100\n",
    "var_err=(var-var_theory)/var_theory*100\n",
    "std_err=(std-std_theory)/std_theory*100\n",
    "print(\"|mean_err=\",mean_err,\"% |  var_err=\",var_err, \"% |  std_err=\", std_err,\"% |\")"
   ]
  },
  {
   "cell_type": "markdown",
   "metadata": {},
   "source": [
    "## 2."
   ]
  },
  {
   "cell_type": "code",
   "execution_count": 3,
   "metadata": {},
   "outputs": [
    {
     "name": "stdout",
     "output_type": "stream",
     "text": [
      "====================\n",
      "Number of sides =  6\n",
      "Number of trials =  10000\n",
      "Elapsed time = 0.011466667122824958\n",
      "====================\n",
      "Number of sides =  6\n",
      "Number of trials =  10000\n",
      "Elapsed time = 0.011873787974424843\n",
      "====================\n",
      "Number of sides =  6\n",
      "Number of trials =  10000\n",
      "Elapsed time = 0.01002777430907642\n",
      "|mean= 10.509 |var= 8.793166839999996 |std= 2.965327442290311 |\n",
      "|mean_theory= 10.5 |var_theory= 8.750000000000004 |std_theory= 2.9580398915498085 |\n",
      "|mean_err= 0.08571428571428896 % |  var_err= 0.49333531428562827 % |  std_err= 0.24636418059542073 % |\n"
     ]
    }
   ],
   "source": [
    "(mean1,var1,mean_theory1,var_theory1)=OneDieS_np(10000,6)\n",
    "(mean2,var2,mean_theory2,var_theory2)=OneDieS_np(10000,6)\n",
    "(mean3,var3,mean_theory3,var_theory3)=OneDieS_np(10000,6)\n",
    "mean=mean1+mean2+mean3\n",
    "var=var1+var2+var3\n",
    "std=var**0.5\n",
    "print(\"|mean=\",mean,\"|var=\",var,\"|std=\",std,\"|\")\n",
    "mean_theory=mean_theory1+mean_theory2+mean_theory3\n",
    "var_theory=var_theory1+var_theory2+var_theory3\n",
    "std_theory=var_theory**0.5\n",
    "print(\"|mean_theory=\",mean_theory,\"|var_theory=\",var_theory,\"|std_theory=\",std_theory,\"|\")\n",
    "mean_err=(mean-mean_theory)/mean_theory*100\n",
    "var_err=(var-var_theory)/var_theory*100\n",
    "std_err=(std-std_theory)/std_theory*100\n",
    "print(\"|mean_err=\",mean_err,\"% |  var_err=\",var_err, \"% |  std_err=\", std_err,\"% |\")"
   ]
  },
  {
   "cell_type": "code",
   "execution_count": 4,
   "metadata": {},
   "outputs": [
    {
     "name": "stdout",
     "output_type": "stream",
     "text": [
      "====================\n",
      "Number of sides =  7\n",
      "Number of trials =  10000\n",
      "Elapsed time = 0.011212359139891603\n",
      "====================\n",
      "Number of sides =  14\n",
      "Number of trials =  10000\n",
      "Elapsed time = 0.010160630273256643\n",
      "====================\n",
      "Number of sides =  21\n",
      "Number of trials =  10000\n",
      "Elapsed time = 0.010576589182559104\n",
      "|mean= 22.522699999999997 |var= 57.12342939000008 |std= 7.558004325878629 |\n",
      "|mean_theory= 22.5 |var_theory= 56.916666666666615 |std_theory= 7.544313531837513 |\n",
      "|mean_err= 0.1008888888888748 % |  var_err= 0.3632727203516172 % |  std_err= 0.1814717002857831 % |\n"
     ]
    }
   ],
   "source": [
    "(mean1,var1,mean_theory1,var_theory1)=OneDieS_np(10000,7)\n",
    "(mean2,var2,mean_theory2,var_theory2)=OneDieS_np(10000,14)\n",
    "(mean3,var3,mean_theory3,var_theory3)=OneDieS_np(10000,21)\n",
    "mean=mean1+mean2+mean3\n",
    "var=var1+var2+var3\n",
    "std=var**0.5\n",
    "print(\"|mean=\",mean,\"|var=\",var,\"|std=\",std,\"|\")\n",
    "mean_theory=mean_theory1+mean_theory2+mean_theory3\n",
    "var_theory=var_theory1+var_theory2+var_theory3\n",
    "std_theory=var_theory**0.5\n",
    "print(\"|mean_theory=\",mean_theory,\"|var_theory=\",var_theory,\"|std_theory=\",std_theory,\"|\")\n",
    "mean_err=(mean-mean_theory)/mean_theory*100\n",
    "var_err=(var-var_theory)/var_theory*100\n",
    "std_err=(std-std_theory)/std_theory*100\n",
    "print(\"|mean_err=\",mean_err,\"% |  var_err=\",var_err, \"% |  std_err=\", std_err,\"% |\")"
   ]
  },
  {
   "cell_type": "code",
   "execution_count": null,
   "metadata": {},
   "outputs": [],
   "source": []
  }
 ],
 "metadata": {
  "kernelspec": {
   "display_name": "Python 3",
   "language": "python",
   "name": "python3"
  },
  "language_info": {
   "codemirror_mode": {
    "name": "ipython",
    "version": 3
   },
   "file_extension": ".py",
   "mimetype": "text/x-python",
   "name": "python",
   "nbconvert_exporter": "python",
   "pygments_lexer": "ipython3",
   "version": "3.6.4"
  }
 },
 "nbformat": 4,
 "nbformat_minor": 2
}
